{
 "cells": [
  {
   "cell_type": "markdown",
   "metadata": {},
   "source": [
    "## Final Project Submission\n",
    "\n",
    "Please fill out:\n",
    "* Student name: \n",
    "* Student pace: self paced / part time / full time\n",
    "* Scheduled project review date/time: \n",
    "* Instructor name: \n",
    "* Blog post URL:\n"
   ]
  },
  {
   "cell_type": "markdown",
   "metadata": {},
   "source": [
    "Multiple linear regression modeling to analyze house sales in a northwestern county"
   ]
  },
  {
   "cell_type": "markdown",
   "metadata": {},
   "source": [
    "1.0 BUSINESS UNDERSTANDING"
   ]
  },
  {
   "cell_type": "markdown",
   "metadata": {},
   "source": [
    "The primary goal of the client is to create a platform that delivers accurate estimates of house prices which are crucial for both buyers and sellers in King county. To achieve this objective we need to develop a model that can identify the key factors influencing house prices. To effectively train this model the client requires precise and representative data related to the real estate market in king county, including historical sales, current listings, property size, and other relevant features.\n",
    "Once trained successfully the model will be capable of providing accurate estimations of house values based on their features.\n",
    "The expectation is that, once completed, the model can be used by them as a tool in selecting properties for investment in King County.\n"
   ]
  },
  {
   "cell_type": "markdown",
   "metadata": {},
   "source": [
    "Analysis Questions"
   ]
  },
  {
   "cell_type": "markdown",
   "metadata": {},
   "source": [
    "This analysis will seek to answer three questions about the data:\n",
    "\n",
    "Question 1: Which features are most highly correlated with price?\n",
    "\n",
    "Question 2: Which features have the strongest correlations with other predictor variables?\n",
    "\n",
    "Question 3: What combinations of features is the best fit, in terms of predictive power, for a multiple regression model to predict house prices?"
   ]
  },
  {
   "cell_type": "markdown",
   "metadata": {},
   "source": [
    "2.0 DATA UNDERSTANDING"
   ]
  },
  {
   "cell_type": "markdown",
   "metadata": {},
   "source": [
    "The dataset contains 21 columns. One is of the prices of the houses, which is our target variable, and the rest will be used to make our predictions. The column names and their descriptions are as follows:"
   ]
  },
  {
   "cell_type": "markdown",
   "metadata": {},
   "source": [
    "id - unique identified for a house\n",
    "dateDate - house was sold\n",
    "pricePrice - is prediction target\n",
    "bedroomsNumber - of Bedrooms/House\n",
    "bathroomsNumber - of bathrooms/bedrooms\n",
    "sqft_livingsquare - footage of the home\n",
    "sqft_lotsquare - footage of the lot\n",
    "floorsTotal - floors (levels) in house\n",
    "waterfront - House which has a view to a waterfront\n",
    "view - Has been viewed\n",
    "condition - How good the condition is ( Overall )\n",
    "grade - overall grade given to the housing unit, based on King County grading system\n",
    "sqft_above - square footage of house apart from basement\n",
    "sqft_basement - square footage of the basement\n",
    "yr_built - Built Year\n",
    "yr_renovated - Year when house was renovated\n",
    "zipcode - zip\n",
    "lat - Latitude coordinate\n",
    "long - Longitude coordinate\n",
    "sqft_living15 - The square footage of interior housing living space for the nearest 15 neighbors\n",
    "sqft_lot15 - The square footage of the land lots of the nearest 15 neighbors"
   ]
  },
  {
   "cell_type": "markdown",
   "metadata": {},
   "source": []
  }
 ],
 "metadata": {
  "kernelspec": {
   "display_name": "Python 3",
   "language": "python",
   "name": "python3"
  },
  "language_info": {
   "codemirror_mode": {
    "name": "ipython",
    "version": 3
   },
   "file_extension": ".py",
   "mimetype": "text/x-python",
   "name": "python",
   "nbconvert_exporter": "python",
   "pygments_lexer": "ipython3",
   "version": "3.8.5"
  }
 },
 "nbformat": 4,
 "nbformat_minor": 2
}
